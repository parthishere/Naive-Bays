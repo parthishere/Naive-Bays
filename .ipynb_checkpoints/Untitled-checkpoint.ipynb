{
 "cells": [
  {
   "cell_type": "code",
   "execution_count": 1,
   "id": "8a2270e6-cec1-4d57-9dc9-886243eb1bfd",
   "metadata": {},
   "outputs": [
    {
     "name": "stdout",
     "output_type": "stream",
     "text": [
      "<class 'pandas.core.frame.DataFrame'>\n",
      "Int64Index: 2843 entries, 0 to 9619\n",
      "Data columns (total 11 columns):\n",
      " #   Column                         Non-Null Count  Dtype  \n",
      "---  ------                         --------------  -----  \n",
      " 0   type                           2843 non-null   object \n",
      " 1   title                          2843 non-null   object \n",
      " 2   country                        2843 non-null   object \n",
      " 3   date_added                     2843 non-null   object \n",
      " 4   release_year                   2843 non-null   int64  \n",
      " 5   description                    2843 non-null   object \n",
      " 6   director                       2843 non-null   object \n",
      " 7   duration                       2843 non-null   object \n",
      " 8   listed_in                      2843 non-null   object \n",
      " 9   rating                         2843 non-null   object \n",
      " 10  rottentomatoes_audience_score  2843 non-null   float64\n",
      "dtypes: float64(1), int64(1), object(9)\n",
      "memory usage: 266.5+ KB\n",
      "None\n",
      "    type  title        country         date_added  release_year  \\\n",
      "0  Movie   7:19         Mexico  December 23, 2016          2016   \n",
      "1  Movie  23:59      Singapore  December 20, 2018          2011   \n",
      "3  Movie     21  United States    January 1, 2020          2008   \n",
      "5  Movie    187  United States   November 1, 2019          1997   \n",
      "7  Movie   1920          India  December 15, 2017          2008   \n",
      "\n",
      "                                         description           director  \\\n",
      "0  After a devastating earthquake hits Mexico Cit...  Jorge Michel Grau   \n",
      "1  When an army recruit is found dead, his fellow...       Gilbert Chan   \n",
      "3  A brilliant group of students become card-coun...     Robert Luketic   \n",
      "5  After one of his high school students attacks ...     Kevin Reynolds   \n",
      "7  An architect and his wife move into a castle t...       Vikram Bhatt   \n",
      "\n",
      "  duration                                       listed_in rating  \\\n",
      "0   93 min                    Dramas, International Movies  TV-MA   \n",
      "1   78 min             Horror Movies, International Movies      R   \n",
      "3  123 min                                          Dramas  PG-13   \n",
      "5  119 min                                          Dramas      R   \n",
      "7  143 min  Horror Movies, International Movies, Thrillers  TV-MA   \n",
      "\n",
      "   rottentomatoes_audience_score  \n",
      "0                           52.0  \n",
      "1                           20.0  \n",
      "3                           17.0  \n",
      "5                           67.0  \n",
      "7                           31.0  \n"
     ]
    },
    {
     "name": "stderr",
     "output_type": "stream",
     "text": [
      "/tmp/ipykernel_6852/4172537663.py:22: SettingWithCopyWarning: \n",
      "A value is trying to be set on a copy of a slice from a DataFrame\n",
      "\n",
      "See the caveats in the documentation: https://pandas.pydata.org/pandas-docs/stable/user_guide/indexing.html#returning-a-view-versus-a-copy\n",
      "  dataM.loc['duration'] = pd.to_numeric(dataM['duration'])\n"
     ]
    }
   ],
   "source": [
    "import random\n",
    "import math\n",
    "import pandas as pd\n",
    "\n",
    "\n",
    "data = pd.read_csv('netflix_titles_enriched.csv')\n",
    "data = data.drop(columns=[\"type\",'rottentomatoes_info', 'rottentomatoes_cast', 'rottentomatoes_audience_#reviews', 'rottentomatoes_audience_review',\n",
    "                 'rottentomatoes_tomatometer_score', 'rottentomatoes_critics_#reviews', 'rottentomatoes_critic_review'])\n",
    "data = data.drop(columns=['cast'])\n",
    "data = data.drop(columns=data.columns[0])\n",
    "data = data.dropna()\n",
    "\n",
    "print(data.info())\n",
    "print(data.head())\n",
    "\n",
    "data['duration'] = data['duration'].map(\n",
    "    lambda x: x.lstrip().rstrip(' min Seasons'))\n",
    "\n",
    "\n",
    "\n",
    "dataM.loc['duration'] = pd.to_numeric(data['duration'])\n",
    "\n",
    "tsize = int(0.8 * dataM.shape[0])\n",
    "vsize = dataM.shape[0] - tsize\n",
    "\n",
    "td = dataM.iloc[:tsize, :]\n",
    "vd = dataM.iloc[tsize:, :]\n",
    "\n",
    "training_data = td.values.tolist()\n",
    "testing_data = vd.values.tolist()\n",
    "\n",
    "header = [\"Cast\", \"Type\", \"Title\", \"Country\", \"Date Added\", \"Release Year\",\n",
    "          \"Description\", \"Director\", \"Duration\", \"Genre\", \"Rating\", \"Rotten Tomatoes Rating\"]"
   ]
  },
  {
   "cell_type": "code",
   "execution_count": null,
   "id": "e529224a-26b8-4013-adbc-2da31f4268eb",
   "metadata": {},
   "outputs": [],
   "source": []
  },
  {
   "cell_type": "code",
   "execution_count": null,
   "id": "e6602866-ff35-4598-bdf8-16c2f8329d65",
   "metadata": {},
   "outputs": [],
   "source": []
  }
 ],
 "metadata": {
  "kernelspec": {
   "display_name": "Python 3 (ipykernel)",
   "language": "python",
   "name": "python3"
  },
  "language_info": {
   "codemirror_mode": {
    "name": "ipython",
    "version": 3
   },
   "file_extension": ".py",
   "mimetype": "text/x-python",
   "name": "python",
   "nbconvert_exporter": "python",
   "pygments_lexer": "ipython3",
   "version": "3.10.6"
  }
 },
 "nbformat": 4,
 "nbformat_minor": 5
}
